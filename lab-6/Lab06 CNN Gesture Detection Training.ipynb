{
 "cells": [
  {
   "cell_type": "code",
   "execution_count": null,
   "metadata": {
    "id": "PK7sOnXona_C"
   },
   "outputs": [],
   "source": [
    "!unzip gesture_data.zip"
   ]
  },
  {
   "cell_type": "code",
   "execution_count": null,
   "metadata": {
    "id": "FW15ykVZrKbS"
   },
   "outputs": [],
   "source": [
    "import tensorflow as tf\n",
    "from tensorflow.keras.applications import VGG16\n",
    "from tensorflow.keras import layers, models\n",
    "\n",
    "IMG_SIZE = (224, 224)                       # VGG16 default\n",
    "\n",
    "base_model = VGG16(\n",
    "    input_shape=IMG_SIZE + (3,),\n",
    "    include_top=False,\n",
    "    weights=\"imagenet\"\n",
    ")\n",
    "base_model.trainable = False               # freeze the conv blocks\n",
    "\n",
    "model = models.Sequential([\n",
    "    base_model,\n",
    "    layers.Flatten(),\n",
    "    layers.Dense(1, activation=\"sigmoid\")  # binary output\n",
    "])\n",
    "\n",
    "model.compile(\n",
    "    optimizer=\"adam\",\n",
    "    loss=\"binary_crossentropy\",\n",
    "    metrics=[\"accuracy\"]\n",
    ")\n"
   ]
  },
  {
   "cell_type": "code",
   "execution_count": null,
   "metadata": {
    "colab": {
     "base_uri": "https://localhost:8080/"
    },
    "executionInfo": {
     "elapsed": 3,
     "status": "ok",
     "timestamp": 1745361904317,
     "user": {
      "displayName": "Tobias Schaffer",
      "userId": "09009542802022320095"
     },
     "user_tz": -120
    },
    "id": "tzoK88kod2J0",
    "outputId": "14fd2150-864e-4e06-8dab-b9a14492fdfe"
   },
   "outputs": [
    {
     "name": "stdout",
     "output_type": "stream",
     "text": [
      "Found 56 images belonging to 2 classes.\n",
      "Found 13 images belonging to 2 classes.\n"
     ]
    }
   ],
   "source": [
    "train_datagen = ImageDataGenerator(validation_split=0.2, rescale=1./255)\n",
    "train_gen = train_datagen.flow_from_directory(\n",
    "    '/content/gesture_data',\n",
    "    target_size=IMG_SIZE,\n",
    "    class_mode='binary',\n",
    "    subset='training'\n",
    ")\n",
    "\n",
    "val_gen = train_datagen.flow_from_directory(\n",
    "    '/content/gesture_data',\n",
    "    target_size=IMG_SIZE,\n",
    "    class_mode='binary',\n",
    "    subset='validation'\n",
    ")"
   ]
  },
  {
   "cell_type": "code",
   "execution_count": null,
   "metadata": {
    "colab": {
     "base_uri": "https://localhost:8080/"
    },
    "executionInfo": {
     "elapsed": 205766,
     "status": "ok",
     "timestamp": 1745362111162,
     "user": {
      "displayName": "Tobias Schaffer",
      "userId": "09009542802022320095"
     },
     "user_tz": -120
    },
    "id": "B46OSehYd4AE",
    "outputId": "cfa7ecdf-0fe7-4280-eacb-075867443866"
   },
   "outputs": [
    {
     "name": "stdout",
     "output_type": "stream",
     "text": [
      "Epoch 1/5\n"
     ]
    },
    {
     "name": "stderr",
     "output_type": "stream",
     "text": [
      "/usr/local/lib/python3.11/dist-packages/keras/src/trainers/data_adapters/py_dataset_adapter.py:121: UserWarning: Your `PyDataset` class should call `super().__init__(**kwargs)` in its constructor. `**kwargs` can include `workers`, `use_multiprocessing`, `max_queue_size`. Do not pass these arguments to `fit()`, as they will be ignored.\n",
      "  self._warn_if_super_not_called()\n"
     ]
    },
    {
     "name": "stdout",
     "output_type": "stream",
     "text": [
      "\u001b[1m2/2\u001b[0m \u001b[32m━━━━━━━━━━━━━━━━━━━━\u001b[0m\u001b[37m\u001b[0m \u001b[1m44s\u001b[0m 27s/step - accuracy: 0.3492 - loss: 1.0808 - val_accuracy: 0.5385 - val_loss: 0.7013\n",
      "Epoch 2/5\n",
      "\u001b[1m2/2\u001b[0m \u001b[32m━━━━━━━━━━━━━━━━━━━━\u001b[0m\u001b[37m\u001b[0m \u001b[1m40s\u001b[0m 26s/step - accuracy: 0.5833 - loss: 0.7899 - val_accuracy: 0.4615 - val_loss: 0.7309\n",
      "Epoch 3/5\n",
      "\u001b[1m2/2\u001b[0m \u001b[32m━━━━━━━━━━━━━━━━━━━━\u001b[0m\u001b[37m\u001b[0m \u001b[1m40s\u001b[0m 22s/step - accuracy: 0.5238 - loss: 0.6841 - val_accuracy: 0.4615 - val_loss: 0.7687\n",
      "Epoch 4/5\n",
      "\u001b[1m2/2\u001b[0m \u001b[32m━━━━━━━━━━━━━━━━━━━━\u001b[0m\u001b[37m\u001b[0m \u001b[1m40s\u001b[0m 22s/step - accuracy: 0.5714 - loss: 0.6402 - val_accuracy: 1.0000 - val_loss: 0.4767\n",
      "Epoch 5/5\n",
      "\u001b[1m2/2\u001b[0m \u001b[32m━━━━━━━━━━━━━━━━━━━━\u001b[0m\u001b[37m\u001b[0m \u001b[1m40s\u001b[0m 22s/step - accuracy: 0.8735 - loss: 0.4609 - val_accuracy: 1.0000 - val_loss: 0.4467\n"
     ]
    },
    {
     "data": {
      "text/plain": [
       "<keras.src.callbacks.history.History at 0x79f76f7ebb90>"
      ]
     },
     "execution_count": 18,
     "metadata": {},
     "output_type": "execute_result"
    }
   ],
   "source": [
    "model.fit(train_gen, validation_data=val_gen, epochs=5)"
   ]
  },
  {
   "cell_type": "code",
   "execution_count": null,
   "metadata": {
    "colab": {
     "base_uri": "https://localhost:8080/"
    },
    "executionInfo": {
     "elapsed": 3766,
     "status": "ok",
     "timestamp": 1745362127071,
     "user": {
      "displayName": "Tobias Schaffer",
      "userId": "09009542802022320095"
     },
     "user_tz": -120
    },
    "id": "3u-zZkt9d0EV",
    "outputId": "b14a84b5-aa43-44a0-f81f-93cd3dc2366a"
   },
   "outputs": [
    {
     "name": "stdout",
     "output_type": "stream",
     "text": [
      "Saved artifact at '/tmp/tmp9m_zjwi3'. The following endpoints are available:\n",
      "\n",
      "* Endpoint 'serve'\n",
      "  args_0 (POSITIONAL_ONLY): TensorSpec(shape=(None, 224, 224, 3), dtype=tf.float32, name='keras_tensor_200')\n",
      "Output Type:\n",
      "  TensorSpec(shape=(None, 1), dtype=tf.float32, name=None)\n",
      "Captures:\n",
      "  134103742187088: TensorSpec(shape=(), dtype=tf.resource, name=None)\n",
      "  134103742190352: TensorSpec(shape=(), dtype=tf.resource, name=None)\n",
      "  134103742189776: TensorSpec(shape=(), dtype=tf.resource, name=None)\n",
      "  134103742191120: TensorSpec(shape=(), dtype=tf.resource, name=None)\n",
      "  134103742190544: TensorSpec(shape=(), dtype=tf.resource, name=None)\n",
      "  134103742191888: TensorSpec(shape=(), dtype=tf.resource, name=None)\n",
      "  134103742191312: TensorSpec(shape=(), dtype=tf.resource, name=None)\n",
      "  134103742192656: TensorSpec(shape=(), dtype=tf.resource, name=None)\n",
      "  134103742192080: TensorSpec(shape=(), dtype=tf.resource, name=None)\n",
      "  134103742193424: TensorSpec(shape=(), dtype=tf.resource, name=None)\n",
      "  134103742192848: TensorSpec(shape=(), dtype=tf.resource, name=None)\n",
      "  134103742194192: TensorSpec(shape=(), dtype=tf.resource, name=None)\n",
      "  134103742193616: TensorSpec(shape=(), dtype=tf.resource, name=None)\n",
      "  134103742194960: TensorSpec(shape=(), dtype=tf.resource, name=None)\n",
      "  134103742194384: TensorSpec(shape=(), dtype=tf.resource, name=None)\n",
      "  134103742195728: TensorSpec(shape=(), dtype=tf.resource, name=None)\n",
      "  134103742195152: TensorSpec(shape=(), dtype=tf.resource, name=None)\n",
      "  134103742196496: TensorSpec(shape=(), dtype=tf.resource, name=None)\n",
      "  134103742195920: TensorSpec(shape=(), dtype=tf.resource, name=None)\n",
      "  134103742197264: TensorSpec(shape=(), dtype=tf.resource, name=None)\n",
      "  134103742196688: TensorSpec(shape=(), dtype=tf.resource, name=None)\n",
      "  134103742198032: TensorSpec(shape=(), dtype=tf.resource, name=None)\n",
      "  134103742197456: TensorSpec(shape=(), dtype=tf.resource, name=None)\n",
      "  134103742198800: TensorSpec(shape=(), dtype=tf.resource, name=None)\n",
      "  134103742198224: TensorSpec(shape=(), dtype=tf.resource, name=None)\n",
      "  134103742199568: TensorSpec(shape=(), dtype=tf.resource, name=None)\n",
      "  134103742186896: TensorSpec(shape=(), dtype=tf.resource, name=None)\n",
      "  134103742201296: TensorSpec(shape=(), dtype=tf.resource, name=None)\n"
     ]
    }
   ],
   "source": [
    "converter = tf.lite.TFLiteConverter.from_keras_model(model)\n",
    "tflite_model = converter.convert()\n",
    "\n",
    "with open(\"cnn_gesture_model.tflite\", \"wb\") as f:\n",
    "    f.write(tflite_model)"
   ]
  },
  {
   "cell_type": "markdown",
   "metadata": {
    "id": "cAX823TsrsVS"
   },
   "source": [
    "Alternative MobileNet"
   ]
  },
  {
   "cell_type": "code",
   "execution_count": null,
   "metadata": {
    "colab": {
     "base_uri": "https://localhost:8080/"
    },
    "executionInfo": {
     "elapsed": 6133,
     "status": "ok",
     "timestamp": 1745360931653,
     "user": {
      "displayName": "Tobias Schaffer",
      "userId": "09009542802022320095"
     },
     "user_tz": -120
    },
    "id": "Y0Ao2zkPdi-c",
    "outputId": "cbf476c0-3818-474e-f4a7-49913171dfd8"
   },
   "outputs": [
    {
     "name": "stdout",
     "output_type": "stream",
     "text": [
      "Downloading data from https://storage.googleapis.com/tensorflow/keras-applications/mobilenet_v2/mobilenet_v2_weights_tf_dim_ordering_tf_kernels_1.0_160_no_top.h5\n",
      "\u001b[1m9406464/9406464\u001b[0m \u001b[32m━━━━━━━━━━━━━━━━━━━━\u001b[0m\u001b[37m\u001b[0m \u001b[1m0s\u001b[0m 0us/step\n"
     ]
    }
   ],
   "source": [
    "import tensorflow as tf\n",
    "from tensorflow.keras.preprocessing.image import ImageDataGenerator\n",
    "from tensorflow.keras.applications import MobileNetV2\n",
    "from tensorflow.keras import layers, models\n",
    "\n",
    "IMG_SIZE = (160, 160)\n",
    "\n",
    "base_model = MobileNetV2(input_shape=IMG_SIZE + (3,), include_top=False, weights='imagenet')\n",
    "base_model.trainable = False\n",
    "\n",
    "model = models.Sequential([\n",
    "    base_model,\n",
    "    layers.Flatten(),\n",
    "    layers.Dense(1, activation='sigmoid')\n",
    "])\n",
    "\n",
    "model.compile(optimizer='adam', loss='binary_crossentropy', metrics=['accuracy'])"
   ]
  },
  {
   "cell_type": "code",
   "execution_count": null,
   "metadata": {
    "id": "e4SvJ0gEoEGS"
   },
   "outputs": [],
   "source": []
  }
 ],
 "metadata": {
  "colab": {
   "authorship_tag": "ABX9TyM5nZr+1XqapzAX1umsUyQJ",
   "provenance": []
  },
  "kernelspec": {
   "display_name": "Python 3",
   "name": "python3"
  },
  "language_info": {
   "name": "python"
  }
 },
 "nbformat": 4,
 "nbformat_minor": 0
}
